{
 "cells": [
  {
   "cell_type": "code",
   "execution_count": 17,
   "metadata": {},
   "outputs": [],
   "source": [
    "import json\n",
    "from pprint import pprint\n",
    "import requests"
   ]
  },
  {
   "cell_type": "markdown",
   "metadata": {},
   "source": [
    "1. Посмотреть документацию к API GitHub, разобраться как вывести список репозиториев для конкретного пользователя, сохранить JSON-вывод в файле *.json."
   ]
  },
  {
   "cell_type": "code",
   "execution_count": 18,
   "metadata": {},
   "outputs": [
    {
     "name": "stdout",
     "output_type": "stream",
     "text": [
      "У пользователя Brutalfacepalm следующие публичные репозитории: alg_and_strict, data_science_1, Math, Python-Learning, StartupIdeas.\n"
     ]
    }
   ],
   "source": [
    "user = 'Brutalfacepalm'\n",
    "git_link = f'https://api.github.com/users/{user}/repos'\n",
    "\n",
    "response = requests.get(git_link)\n",
    "\n",
    "response_json = json.loads(response.text)\n",
    "repos = ', '.join([i['name'] for i in response_json])\n",
    "print(f'У пользователя {user} следующие публичные репозитории: {repos}.')"
   ]
  },
  {
   "cell_type": "code",
   "execution_count": 19,
   "metadata": {},
   "outputs": [],
   "source": [
    "with open (f'{user}.json', 'w+') as file_json:\n",
    "    repos_json = {user:[i['name'] for i in response_json]}\n",
    "    json.dump(repos_json, file_json)"
   ]
  },
  {
   "cell_type": "markdown",
   "metadata": {},
   "source": [
    "2. Изучить список открытых API. Найти среди них любое, требующее авторизацию (любого типа). Выполнить запросы к нему, пройдя авторизацию. Ответ сервера записать в файл."
   ]
  },
  {
   "cell_type": "markdown",
   "metadata": {},
   "source": [
    "# Last.fm\n"
   ]
  },
  {
   "cell_type": "code",
   "execution_count": 94,
   "metadata": {},
   "outputs": [],
   "source": [
    "api_key = 'f35a4e544b560d594cf049b37d0e5b31'\n",
    "main_link = 'http://ws.audioscrobbler.com/2.0/'\n",
    "method = 'user.gettopalbums'\n",
    "user = 'Brutalfacepalm'\n",
    "attrs = {'method':method, 'user': user, 'api_key': api_key, 'format': 'json'}\n",
    "\n",
    "response = requests.get(main_link, params=attrs).text\n",
    "with open (f'{user}_gettopalbums.json', 'w+') as last_fm_file:\n",
    "    json.dump(response, last_fm_file)"
   ]
  },
  {
   "cell_type": "markdown",
   "metadata": {},
   "source": [
    "# Figma"
   ]
  },
  {
   "cell_type": "code",
   "execution_count": 98,
   "metadata": {},
   "outputs": [
    {
     "name": "stdout",
     "output_type": "stream",
     "text": [
      "'{\"id\":\"788708519287458336\",\"email\":\"theshick@mail.ru\",\"handle\":\"Anton\",\"img_url\":\"https://www.gravatar.com/avatar/7896043045a447e8af60ada82f0bb7d2?size=240&default=https%3A%2F%2Fs3-alpha.figma.com%2Fstatic%2Fuser_a_v2.png\"}'\n"
     ]
    }
   ],
   "source": [
    "token = '28842-b7449f75-4ad4-4efc-8a73-086d67197891'\n",
    "headers = {'X-FIGMA-TOKEN': f'{token}'}\n",
    "\n",
    "url = 'https://api.figma.com/V1/me' # информация о моем аккаунте\n",
    "\n",
    "response = requests.get(url, headers = headers)\n",
    "pprint(response.text)"
   ]
  }
 ],
 "metadata": {
  "kernelspec": {
   "display_name": "Python 3",
   "language": "python",
   "name": "python3"
  },
  "language_info": {
   "codemirror_mode": {
    "name": "ipython",
    "version": 3
   },
   "file_extension": ".py",
   "mimetype": "text/x-python",
   "name": "python",
   "nbconvert_exporter": "python",
   "pygments_lexer": "ipython3",
   "version": "3.7.3"
  }
 },
 "nbformat": 4,
 "nbformat_minor": 2
}
