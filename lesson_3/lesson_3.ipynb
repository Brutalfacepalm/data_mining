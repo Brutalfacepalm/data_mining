{
 "cells": [
  {
   "cell_type": "code",
   "execution_count": 1,
   "metadata": {},
   "outputs": [],
   "source": [
    "from pprint import pprint\n",
    "from pymongo import MongoClient\n",
    "\n",
    "from parsing_run import run as parsing_run"
   ]
  },
  {
   "cell_type": "markdown",
   "metadata": {},
   "source": [
    "- Развернуть у себя на компьютере/виртуальной машине/хостинге MongoDB и реализовать функцию, записывающую собранные вакансии в созданную БД\n",
    "- Написать функцию, которая производит поиск и выводит на экран вакансии с заработной платой больше введенной суммы \n",
    "- *Написать функцию, которая будет добавлять в вашу базу данных только новые вакансии с сайта. Доработать функцию, которая будет обновлять старые вакансии."
   ]
  },
  {
   "cell_type": "code",
   "execution_count": 2,
   "metadata": {
    "scrolled": true
   },
   "outputs": [
    {
     "name": "stdout",
     "output_type": "stream",
     "text": [
      "Введите название вакансии для поиска: python\n",
      "Введите максимальное количество страниц поиска: 10\n"
     ]
    }
   ],
   "source": [
    "text =input('Введите название вакансии для поиска: ')\n",
    "input_pages =int(input('Введите максимальное количество страниц поиска: '))"
   ]
  },
  {
   "cell_type": "code",
   "execution_count": 3,
   "metadata": {},
   "outputs": [],
   "source": [
    "df_vacancy = parsing_run(text, input_pages)\n",
    "df_vacancy = df_vacancy.to_dict('records')"
   ]
  },
  {
   "cell_type": "code",
   "execution_count": 4,
   "metadata": {},
   "outputs": [],
   "source": [
    "client = MongoClient('localhost', 27017)"
   ]
  },
  {
   "cell_type": "code",
   "execution_count": 5,
   "metadata": {},
   "outputs": [],
   "source": [
    "parser_db = client['parsing_db']"
   ]
  },
  {
   "cell_type": "code",
   "execution_count": 6,
   "metadata": {},
   "outputs": [],
   "source": [
    "for vac in df_vacancy:\n",
    "    try:\n",
    "        # Если уже существует запись в БД с такими данными в поле 'Ссылка', то происходит обновление данных\n",
    "        # Если записи не существует, то из-за ключа upset=True происходит запись в БД новых данных\n",
    "        parser_db.vacancies.update_one({'Ссылка':vac['Ссылка']}, {'$set':vac}, upsert=True)\n",
    "    except:\n",
    "        pass"
   ]
  },
  {
   "cell_type": "code",
   "execution_count": 7,
   "metadata": {},
   "outputs": [
    {
     "data": {
      "text/plain": [
       "267"
      ]
     },
     "execution_count": 7,
     "metadata": {},
     "output_type": "execute_result"
    }
   ],
   "source": [
    "parser_db.vacancies.count_documents({})"
   ]
  },
  {
   "cell_type": "code",
   "execution_count": 8,
   "metadata": {
    "scrolled": true
   },
   "outputs": [
    {
     "name": "stdout",
     "output_type": "stream",
     "text": [
      "Введите минимальную зарплату для поиска: 150000\n",
      "{'_id': ObjectId('5e009e8b21ce47664ed716c9'),\n",
      " 'Город': 'Новосибирск',\n",
      " 'Компания': 'ООО МКК Русинтерфинанс',\n",
      " 'Максимальная зарплата': 240000,\n",
      " 'Минимальная зарплата': 120000,\n",
      " 'Название вакансии': 'Frontend разработчик / front-end / front end developer',\n",
      " 'Площадка': 'HeadHunter',\n",
      " 'Ссылка': 'https://saratov.hh.ru/vacancy/35089797?query=python'}\n",
      "{'_id': ObjectId('5e009e8b21ce47664ed716f9'),\n",
      " 'Город': 'Москва',\n",
      " 'Компания': 'ООО ЭНГРИ',\n",
      " 'Максимальная зарплата': 170000,\n",
      " 'Минимальная зарплата': 120000,\n",
      " 'Название вакансии': 'Middle Python Developer',\n",
      " 'Площадка': 'HeadHunter',\n",
      " 'Ссылка': 'https://saratov.hh.ru/vacancy/34787646?query=python'}\n",
      "{'_id': ObjectId('5e009e8b21ce47664ed7170f'),\n",
      " 'Город': 'Нижний Новгород',\n",
      " 'Компания': 'ООО ДЖАСТ ВОРК',\n",
      " 'Максимальная зарплата': 200000,\n",
      " 'Минимальная зарплата': 130000,\n",
      " 'Название вакансии': 'Ведущий программист Python/Django',\n",
      " 'Площадка': 'HeadHunter',\n",
      " 'Ссылка': 'https://saratov.hh.ru/vacancy/35088428?query=python'}\n",
      "{'_id': ObjectId('5e009e8b21ce47664ed71711'),\n",
      " 'Город': 'Уфа',\n",
      " 'Компания': 'ООО ДЖАСТ ВОРК',\n",
      " 'Максимальная зарплата': 200000,\n",
      " 'Минимальная зарплата': 130000,\n",
      " 'Название вакансии': 'Ведущий программист Python/Django',\n",
      " 'Площадка': 'HeadHunter',\n",
      " 'Ссылка': 'https://saratov.hh.ru/vacancy/35088377?query=python'}\n",
      "{'_id': ObjectId('5e009e8b21ce47664ed71715'),\n",
      " 'Город': 'Санкт-Петербург',\n",
      " 'Компания': ' Soshace',\n",
      " 'Максимальная зарплата': 300000,\n",
      " 'Минимальная зарплата': 200000,\n",
      " 'Название вакансии': 'Python Web Developer',\n",
      " 'Площадка': 'HeadHunter',\n",
      " 'Ссылка': 'https://saratov.hh.ru/vacancy/34873200?query=python'}\n",
      "{'_id': ObjectId('5e009e8b21ce47664ed7171d'),\n",
      " 'Город': 'Швеция',\n",
      " 'Компания': ' Lingonberry Talent Acquisition',\n",
      " 'Максимальная зарплата': 261449.58,\n",
      " 'Минимальная зарплата': 236549.62,\n",
      " 'Название вакансии': 'Python Developer (to Sweden)',\n",
      " 'Площадка': 'HeadHunter',\n",
      " 'Ссылка': 'https://saratov.hh.ru/vacancy/34986763?query=python'}\n",
      "{'_id': ObjectId('5e009e8b21ce47664ed71721'),\n",
      " 'Город': 'Москва',\n",
      " 'Компания': ' Betby',\n",
      " 'Максимальная зарплата': 310490.1,\n",
      " 'Минимальная зарплата': 206993.4,\n",
      " 'Название вакансии': 'Senior Python Developer (to Riga)',\n",
      " 'Площадка': 'HeadHunter',\n",
      " 'Ссылка': 'https://saratov.hh.ru/vacancy/34900635?query=python'}\n",
      "{'_id': ObjectId('5e009e8b21ce47664ed7172b'),\n",
      " 'Город': 'Москва',\n",
      " 'Компания': 'ООО БОЛЬШАЯ ТРОЙКА',\n",
      " 'Максимальная зарплата': 200000,\n",
      " 'Минимальная зарплата': 120000,\n",
      " 'Название вакансии': 'Backend python/Django разработчик',\n",
      " 'Площадка': 'HeadHunter',\n",
      " 'Ссылка': 'https://saratov.hh.ru/vacancy/34850179?query=python'}\n",
      "{'_id': ObjectId('5e009e8b21ce47664ed71741'),\n",
      " 'Город': 'Москва',\n",
      " 'Компания': ' Открытые Технологии',\n",
      " 'Максимальная зарплата': 180000,\n",
      " 'Минимальная зарплата': 120000,\n",
      " 'Название вакансии': 'Аналитик данных / Data Scientist',\n",
      " 'Площадка': 'HeadHunter',\n",
      " 'Ссылка': 'https://saratov.hh.ru/vacancy/32377243?query=python'}\n",
      "{'_id': ObjectId('5e009e8b21ce47664ed71743'),\n",
      " 'Город': 'Москва',\n",
      " 'Компания': ' Ключевые ИТ Решения',\n",
      " 'Максимальная зарплата': 200000,\n",
      " 'Минимальная зарплата': 120000,\n",
      " 'Название вакансии': 'Python разработчик',\n",
      " 'Площадка': 'HeadHunter',\n",
      " 'Ссылка': 'https://saratov.hh.ru/vacancy/34846915?query=python'}\n",
      "{'_id': ObjectId('5e009e8b21ce47664ed71745'),\n",
      " 'Город': 'Москва',\n",
      " 'Компания': ' Ключевые ИТ Решения',\n",
      " 'Максимальная зарплата': 300000,\n",
      " 'Минимальная зарплата': 130000,\n",
      " 'Название вакансии': 'Python Developer',\n",
      " 'Площадка': 'HeadHunter',\n",
      " 'Ссылка': 'https://saratov.hh.ru/vacancy/34977652?query=python'}\n",
      "{'_id': ObjectId('5e009e8b21ce47664ed7174f'),\n",
      " 'Город': 'Москва',\n",
      " 'Компания': ' B2Broker Москва',\n",
      " 'Максимальная зарплата': 200000,\n",
      " 'Минимальная зарплата': 150000,\n",
      " 'Название вакансии': 'Python developer',\n",
      " 'Площадка': 'HeadHunter',\n",
      " 'Ссылка': 'https://saratov.hh.ru/vacancy/34933232?query=python'}\n",
      "{'_id': ObjectId('5e009e8b21ce47664ed71761'),\n",
      " 'Город': 'Москва',\n",
      " 'Компания': ' UBEX AI AG',\n",
      " 'Максимальная зарплата': 200000,\n",
      " 'Минимальная зарплата': 130000,\n",
      " 'Название вакансии': 'Back-end разработчик Python / Go',\n",
      " 'Площадка': 'HeadHunter',\n",
      " 'Ссылка': 'https://saratov.hh.ru/vacancy/34840585?query=python'}\n",
      "{'_id': ObjectId('5e009e8b21ce47664ed71779'),\n",
      " 'Город': 'Санкт-Петербург',\n",
      " 'Компания': ' B2Broker Санкт-Петербург',\n",
      " 'Максимальная зарплата': 200000,\n",
      " 'Минимальная зарплата': 150000,\n",
      " 'Название вакансии': 'Python developer',\n",
      " 'Площадка': 'HeadHunter',\n",
      " 'Ссылка': 'https://saratov.hh.ru/vacancy/34964620?query=python'}\n",
      "{'_id': ObjectId('5e009e8b21ce47664ed7179f'),\n",
      " 'Город': 'Киев',\n",
      " 'Компания': ' Soshace',\n",
      " 'Максимальная зарплата': 311249.5,\n",
      " 'Минимальная зарплата': 186749.69999999998,\n",
      " 'Название вакансии': 'Python Web Developer',\n",
      " 'Площадка': 'HeadHunter',\n",
      " 'Ссылка': 'https://saratov.hh.ru/vacancy/34831657?query=python'}\n",
      "{'_id': ObjectId('5e009e8b21ce47664ed717bd'),\n",
      " 'Город': 'Москва',\n",
      " 'Компания': ' Асимметрик VFX (Asymmetric VFX Studio)',\n",
      " 'Максимальная зарплата': 160000,\n",
      " 'Минимальная зарплата': 90000,\n",
      " 'Название вакансии': 'Разработчик Python',\n",
      " 'Площадка': 'HeadHunter',\n",
      " 'Ссылка': 'https://saratov.hh.ru/vacancy/34805442?query=python'}\n",
      "{'_id': ObjectId('5e009e8b21ce47664ed717d9'),\n",
      " 'Город': 'Москва',\n",
      " 'Компания': 'ООО КВАНТПОРТРУС',\n",
      " 'Максимальная зарплата': 250000,\n",
      " 'Минимальная зарплата': 250000,\n",
      " 'Название вакансии': 'Junior Quantitative Researcher',\n",
      " 'Площадка': 'HeadHunter',\n",
      " 'Ссылка': 'https://saratov.hh.ru/vacancy/31844648?query=python'}\n",
      "{'_id': ObjectId('5e009e8b21ce47664ed717db'),\n",
      " 'Город': 'Москва',\n",
      " 'Компания': ' Soshace',\n",
      " 'Максимальная зарплата': 300000,\n",
      " 'Минимальная зарплата': 200000,\n",
      " 'Название вакансии': 'Python Web Developer',\n",
      " 'Площадка': 'HeadHunter',\n",
      " 'Ссылка': 'https://saratov.hh.ru/vacancy/34831620?query=python'}\n",
      "{'_id': ObjectId('5e009e8b21ce47664ed717df'),\n",
      " 'Город': 'Москва',\n",
      " 'Компания': ' Финансовый университет, Финуниверситет',\n",
      " 'Максимальная зарплата': 250000,\n",
      " 'Минимальная зарплата': 90000,\n",
      " 'Название вакансии': 'Доцент (анализ данных и машинное обучение)',\n",
      " 'Площадка': 'HeadHunter',\n",
      " 'Ссылка': 'https://saratov.hh.ru/vacancy/34947699?query=python'}\n",
      "{'_id': ObjectId('5e009e8b21ce47664ed717ef'),\n",
      " 'Город': 'Минск',\n",
      " 'Компания': ' Soshace',\n",
      " 'Максимальная зарплата': 311249.5,\n",
      " 'Минимальная зарплата': 186749.69999999998,\n",
      " 'Название вакансии': 'Python Web Developer',\n",
      " 'Площадка': 'HeadHunter',\n",
      " 'Ссылка': 'https://saratov.hh.ru/vacancy/34831658?query=python'}\n",
      "{'_id': ObjectId('5e009e8b21ce47664ed717f5'),\n",
      " 'Город': 'Москва',\n",
      " 'Компания': 'АО АСТ',\n",
      " 'Максимальная зарплата': 200000,\n",
      " 'Минимальная зарплата': 150000,\n",
      " 'Название вакансии': 'Web-разработчик Full stack',\n",
      " 'Площадка': 'HeadHunter',\n",
      " 'Ссылка': 'https://saratov.hh.ru/vacancy/34764901?query=python'}\n",
      "{'_id': ObjectId('5e009e8b21ce47664ed717ff'),\n",
      " 'Город': 'Москва',\n",
      " 'Компания': ' Smart Development Ltd',\n",
      " 'Максимальная зарплата': 217874.65,\n",
      " 'Минимальная зарплата': 124499.79999999999,\n",
      " 'Название вакансии': 'Senior QA Automation Engineer (Selenium)',\n",
      " 'Площадка': 'HeadHunter',\n",
      " 'Ссылка': 'https://saratov.hh.ru/vacancy/34956571?query=python'}\n",
      "{'_id': ObjectId('5e009e8b21ce47664ed71823'),\n",
      " 'Город': 'Москва',\n",
      " 'Компания': 'ООО АлгоМост',\n",
      " 'Максимальная зарплата': 200000,\n",
      " 'Минимальная зарплата': 100000,\n",
      " 'Название вакансии': 'Computer Vision / Data scientist CV',\n",
      " 'Площадка': 'HeadHunter',\n",
      " 'Ссылка': 'https://saratov.hh.ru/vacancy/35081435?query=python'}\n",
      "{'_id': ObjectId('5e009e8b21ce47664ed71831'),\n",
      " 'Город': 'Москва',\n",
      " 'Компания': 'ООО Лаборатория Наносемантика',\n",
      " 'Максимальная зарплата': 180000,\n",
      " 'Минимальная зарплата': 150000,\n",
      " 'Название вакансии': 'Ведущий разработчик (Python)',\n",
      " 'Площадка': 'HeadHunter',\n",
      " 'Ссылка': 'https://saratov.hh.ru/vacancy/34750132?query=python'}\n",
      "{'_id': ObjectId('5e009e8b21ce47664ed71845'),\n",
      " 'Город': 'Москва',\n",
      " 'Компания': ' Maxiru',\n",
      " 'Максимальная зарплата': 174299.72,\n",
      " 'Минимальная зарплата': 130724.79,\n",
      " 'Название вакансии': 'Senior Python разработчик / developer',\n",
      " 'Площадка': 'HeadHunter',\n",
      " 'Ссылка': 'https://saratov.hh.ru/vacancy/35081724?query=python'}\n",
      "{'_id': ObjectId('5e009e8b21ce47664ed71863'),\n",
      " 'Город': 'Москва',\n",
      " 'Компания': 'Группа компаний ЭРКАФАРМ ( аптечные сети Озерки, Доктор '\n",
      "             'Столетов).',\n",
      " 'Максимальная зарплата': 172000,\n",
      " 'Минимальная зарплата': 172000,\n",
      " 'Название вакансии': 'Специалист по Data Science',\n",
      " 'Площадка': 'SuperJob',\n",
      " 'Ссылка': 'https://www.superjob.ru/vakansii/specialist-po-data-science-33100866.html'}\n"
     ]
    }
   ],
   "source": [
    "for vac in parser_db.vacancies.find({'Максимальная зарплата':{'$gt':int(input('Введите минимальную зарплату для поиска: '))}}):\n",
    "    pprint(vac)"
   ]
  }
 ],
 "metadata": {
  "kernelspec": {
   "display_name": "Python 3",
   "language": "python",
   "name": "python3"
  },
  "language_info": {
   "codemirror_mode": {
    "name": "ipython",
    "version": 3
   },
   "file_extension": ".py",
   "mimetype": "text/x-python",
   "name": "python",
   "nbconvert_exporter": "python",
   "pygments_lexer": "ipython3",
   "version": "3.7.3"
  }
 },
 "nbformat": 4,
 "nbformat_minor": 2
}
