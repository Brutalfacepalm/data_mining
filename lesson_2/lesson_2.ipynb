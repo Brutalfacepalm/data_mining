{
 "cells": [
  {
   "cell_type": "markdown",
   "metadata": {},
   "source": [
    "Необходимо собрать информацию о вакансиях на вводимую должность (используем input или\n",
    "через аргументы) с сайта *superjob.ru* и *hh.ru*. Приложение должно анализировать несколько страниц\n",
    "сайта(также вводим через input или аргументы). Получившийся список должен содержать в себе\n",
    "минимум:\n",
    " - Наименование вакансии\n",
    " - Предлагаемую зарплату (отдельно мин. и и отдельно макс.)\n",
    " - Ссылку на саму вакансию\n",
    " - Сайт откуда собрана вакансия\n",
    "\n",
    "По своему желанию можно добавить еще работодателя и расположение. Данная структура должна\n",
    "быть одинаковая для вакансий с обоих сайтов. Общий результат можно вывести с помощью\n",
    "dataFrame через pandas."
   ]
  }
 ],
 "metadata": {
  "kernelspec": {
   "display_name": "Python 3",
   "language": "python",
   "name": "python3"
  },
  "language_info": {
   "codemirror_mode": {
    "name": "ipython",
    "version": 3
   },
   "file_extension": ".py",
   "mimetype": "text/x-python",
   "name": "python",
   "nbconvert_exporter": "python",
   "pygments_lexer": "ipython3",
   "version": "3.7.3"
  }
 },
 "nbformat": 4,
 "nbformat_minor": 2
}
